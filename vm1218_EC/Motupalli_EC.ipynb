{
 "cells": [
  {
   "cell_type": "code",
   "execution_count": 1,
   "metadata": {
    "collapsed": false
   },
   "outputs": [
    {
     "name": "stdout",
     "output_type": "stream",
     "text": [
      "Populating the interactive namespace from numpy and matplotlib\n"
     ]
    }
   ],
   "source": [
    "# Load relevant libraries.\n",
    "\n",
    "%pylab inline\n",
    "import matplotlib.pyplot as plt\n",
    "import numpy as np\n",
    "import pandas as pd\n",
    "import statsmodels.api as sm\n",
    "import statsmodels.formula.api as smf\n",
    "from statsmodels.graphics.api import abline_plot\n",
    "import patsy\n"
   ]
  },
  {
   "cell_type": "code",
   "execution_count": 2,
   "metadata": {
    "collapsed": false
   },
   "outputs": [
    {
     "name": "stdout",
     "output_type": "stream",
     "text": [
      "Index([u'GID', u'Unnamed: 1', u'Pos', u'Name', u'Team', u'Opponent',\n",
      "       u'Home/Away', u'Salary', u'Salary Change', u'Points', u'GP',\n",
      "       u'Pts_Game', u'Pts_G_$', u'Pts_G(alt)', u'Bye week', u'PLAYS', u'RUN',\n",
      "       u'RYD', u'RTD', u'TARGETS', u'REC', u'PYDS', u'PTD', u'FUM', u'INT',\n",
      "       u'PERF', u'LAST', u'Connections'],\n",
      "      dtype='object')\n"
     ]
    }
   ],
   "source": [
    "data = pd.read_csv(\"runningback.csv\")\n",
    "#The included dataset is intentionally truncated to provide a small example set for review.\n",
    "#This set cannot be used to predict actual performance in any week after football week 10, 2015.\n",
    "#A real weekly dataset needs to incorporate each Thursday's NFL.com adjusted release.\n",
    "print data.columns"
   ]
  },
  {
   "cell_type": "code",
   "execution_count": 3,
   "metadata": {
    "collapsed": false
   },
   "outputs": [
    {
     "name": "stdout",
     "output_type": "stream",
     "text": [
      "\n",
      "                            OLS Regression Results                            \n",
      "==============================================================================\n",
      "Dep. Variable:                   PERF   R-squared:                       0.785\n",
      "Model:                            OLS   Adj. R-squared:                  0.767\n",
      "Method:                 Least Squares   F-statistic:                     44.73\n",
      "Date:                Wed, 16 Dec 2015   Prob (F-statistic):           1.27e-39\n",
      "Time:                        09:58:11   Log-Likelihood:                 55.814\n",
      "No. Observations:                 147   AIC:                            -87.63\n",
      "Df Residuals:                     135   BIC:                            -51.74\n",
      "Df Model:                          11                                         \n",
      "Covariance Type:            nonrobust                                         \n",
      "===============================================================================\n",
      "                  coef    std err          t      P>|t|      [95.0% Conf. Int.]\n",
      "-------------------------------------------------------------------------------\n",
      "Intercept      -0.0594      0.057     -1.035      0.303        -0.173     0.054\n",
      "PLAYS           0.2212      0.126      1.758      0.081        -0.028     0.470\n",
      "RUN            -0.2220      0.126     -1.761      0.080        -0.471     0.027\n",
      "RYD          4.227e-05      0.000      0.113      0.910        -0.001     0.001\n",
      "RTD             0.0209      0.015      1.391      0.166        -0.009     0.051\n",
      "TARGETS        -0.2189      0.126     -1.739      0.084        -0.468     0.030\n",
      "REC             0.0033      0.008      0.413      0.680        -0.013     0.019\n",
      "PYDS           -0.0008      0.001     -1.338      0.183        -0.002     0.000\n",
      "PTD             0.0150      0.032      0.468      0.641        -0.049     0.079\n",
      "FUM            -0.0188      0.026     -0.737      0.462        -0.069     0.032\n",
      "LAST            0.0395      0.003     14.007      0.000         0.034     0.045\n",
      "Connections     0.0019      0.002      0.803      0.423        -0.003     0.007\n",
      "==============================================================================\n",
      "Omnibus:                       24.199   Durbin-Watson:                   1.979\n",
      "Prob(Omnibus):                  0.000   Jarque-Bera (JB):               94.608\n",
      "Skew:                           0.447   Prob(JB):                     2.86e-21\n",
      "Kurtosis:                       6.827   Cond. No.                     4.79e+03\n",
      "==============================================================================\n",
      "\n",
      "Warnings:\n",
      "[1] Standard Errors assume that the covariance matrix of the errors is correctly specified.\n",
      "[2] The condition number is large, 4.79e+03. This might indicate that there are\n",
      "strong multicollinearity or other numerical problems.\n"
     ]
    }
   ],
   "source": [
    "RBmod = smf.ols('PERF ~ PLAYS + RUN + RYD + RTD + TARGETS + REC + PYDS + PTD + FUM + LAST + Connections', data = data).fit()\n",
    "print\n",
    "print RBmod.summary()"
   ]
  },
  {
   "cell_type": "markdown",
   "metadata": {},
   "source": [
    "As shown above, the adjusted R^2 value is relatively high, indicating ~78% accountability for variability, and is very close to the R^2 value, implying that the variables chosen are meaningful. \n",
    "\n",
    "However, since we are using a binary outcome variable, that is outperform = TRUE or FALSE, a logit model gives us a better representation."
   ]
  },
  {
   "cell_type": "code",
   "execution_count": 4,
   "metadata": {
    "collapsed": false
   },
   "outputs": [
    {
     "name": "stdout",
     "output_type": "stream",
     "text": [
      "Optimization terminated successfully.\n",
      "         Current function value: 0.194123\n",
      "         Iterations 8\n",
      "\n",
      "                           Logit Regression Results                           \n",
      "==============================================================================\n",
      "Dep. Variable:                   PERF   No. Observations:                  147\n",
      "Model:                          Logit   Df Residuals:                      136\n",
      "Method:                           MLE   Df Model:                           10\n",
      "Date:                Wed, 16 Dec 2015   Pseudo R-squ.:                  0.5401\n",
      "Time:                        09:58:16   Log-Likelihood:                -28.536\n",
      "converged:                       True   LL-Null:                       -62.051\n",
      "                                        LLR p-value:                 1.654e-10\n",
      "===============================================================================\n",
      "                  coef    std err          z      P>|z|      [95.0% Conf. Int.]\n",
      "-------------------------------------------------------------------------------\n",
      "Intercept      -4.0618      1.462     -2.779      0.005        -6.926    -1.197\n",
      "PLAYS           2.0577      1.774      1.160      0.246        -1.419     5.534\n",
      "RUN            -2.0601      1.777     -1.159      0.246        -5.543     1.423\n",
      "RYD             0.0070      0.007      1.033      0.302        -0.006     0.020\n",
      "RTD             0.6699      0.295      2.272      0.023         0.092     1.248\n",
      "TARGETS        -2.0937      1.775     -1.180      0.238        -5.573     1.385\n",
      "REC            -0.0585      0.148     -0.395      0.693        -0.349     0.232\n",
      "PYDS            0.0121      0.011      1.127      0.260        -0.009     0.033\n",
      "PTD             1.2567      0.644      1.950      0.051        -0.006     2.520\n",
      "FUM            -1.3828      0.597     -2.316      0.021        -2.553    -0.213\n",
      "Connections    -0.0496      0.053     -0.944      0.345        -0.153     0.053\n",
      "===============================================================================\n"
     ]
    }
   ],
   "source": [
    "RBlogitmod = smf.logit('PERF ~ PLAYS + RUN + RYD + RTD + TARGETS + REC + PYDS + PTD + FUM + Connections', data = data).fit()\n",
    "print\n",
    "print RBlogitmod.summary()"
   ]
  },
  {
   "cell_type": "code",
   "execution_count": 5,
   "metadata": {
    "collapsed": false
   },
   "outputs": [
    {
     "name": "stdout",
     "output_type": "stream",
     "text": [
      "1.0\n"
     ]
    }
   ],
   "source": [
    "# Using Adrian Peterson's data to predict performance in Week 10 as a test\n",
    "\n",
    "e = np.exp(RBlogitmod.params['Intercept'] + RBlogitmod.params['PLAYS']*199 + \n",
    "                 RBlogitmod.params['RUN']*180 + RBlogitmod.params['RYD']*810 + \n",
    "                 RBlogitmod.params['RTD']*4 + RBlogitmod.params['TARGETS']*19 + \n",
    "                 RBlogitmod.params['REC']*18 + RBlogitmod.params['PYDS']*141 + \n",
    "                 RBlogitmod.params['PTD']*0 + RBlogitmod.params['FUM'] * 1)\n",
    "print(e / (1 + e))"
   ]
  },
  {
   "cell_type": "markdown",
   "metadata": {},
   "source": [
    "As shown above, Adrian Peterson is correctly predicted to outperform 12 points in Week 10"
   ]
  },
  {
   "cell_type": "markdown",
   "metadata": {},
   "source": [
    "Simultaneously removing all apparently marginally negligible variables, the model reduces to 6 decision variables."
   ]
  },
  {
   "cell_type": "code",
   "execution_count": 3,
   "metadata": {
    "collapsed": false
   },
   "outputs": [
    {
     "name": "stdout",
     "output_type": "stream",
     "text": [
      "Optimization terminated successfully.\n",
      "         Current function value: 0.205109\n",
      "         Iterations 8\n",
      "\n",
      "                           Logit Regression Results                           \n",
      "==============================================================================\n",
      "Dep. Variable:                   PERF   No. Observations:                  147\n",
      "Model:                          Logit   Df Residuals:                      140\n",
      "Method:                           MLE   Df Model:                            6\n",
      "Date:                Wed, 16 Dec 2015   Pseudo R-squ.:                  0.5141\n",
      "Time:                        10:17:27   Log-Likelihood:                -30.151\n",
      "converged:                       True   LL-Null:                       -62.051\n",
      "                                        LLR p-value:                 7.578e-12\n",
      "==============================================================================\n",
      "                 coef    std err          z      P>|z|      [95.0% Conf. Int.]\n",
      "------------------------------------------------------------------------------\n",
      "Intercept     -5.3409      1.075     -4.967      0.000        -7.448    -3.233\n",
      "PLAYS          2.2079      1.818      1.215      0.224        -1.354     5.770\n",
      "RUN           -2.1857      1.818     -1.202      0.229        -5.748     1.377\n",
      "RTD            0.7660      0.254      3.021      0.003         0.269     1.263\n",
      "TARGETS       -2.2064      1.816     -1.215      0.225        -5.767     1.354\n",
      "PTD            1.5213      0.533      2.855      0.004         0.477     2.566\n",
      "FUM           -1.2052      0.529     -2.278      0.023        -2.242    -0.168\n",
      "==============================================================================\n"
     ]
    }
   ],
   "source": [
    "RBlogitmod = smf.logit('PERF ~ PLAYS + RUN + RTD + TARGETS + PTD + FUM', data = data).fit()\n",
    "print\n",
    "print RBlogitmod.summary()"
   ]
  },
  {
   "cell_type": "markdown",
   "metadata": {},
   "source": [
    "Six variables are reasonable for user input, and user information can then inform the model."
   ]
  },
  {
   "cell_type": "code",
   "execution_count": 4,
   "metadata": {
    "collapsed": false
   },
   "outputs": [
    {
     "name": "stdout",
     "output_type": "stream",
     "text": [
      "Number of plays? 199\n",
      "Number of running plays? 180\n",
      "Number of rushing touchdowns? 4\n",
      "Number of targets? 19\n",
      "Number of receiving touchdowns? 0\n",
      "Number of fumbles? 1\n"
     ]
    }
   ],
   "source": [
    "#Multiple while loops are personal preference and simply facilitate\n",
    "#easy addition/removal of variables with minimal proofreading\n",
    "while True:\n",
    "    try:\n",
    "        PLAYS = int(raw_input(\"Number of plays? \"))\n",
    "    except ValueError:\n",
    "            print \"Please enter a number\"\n",
    "            continue\n",
    "    else:\n",
    "        break\n",
    "while True:\n",
    "    try:\n",
    "        RUN = int(raw_input(\"Number of running plays? \"))\n",
    "    except ValueError:\n",
    "            print \"Please enter a number\"\n",
    "            continue\n",
    "    else:\n",
    "        break\n",
    "while True:\n",
    "    try:\n",
    "        RTD = int(raw_input(\"Number of rushing touchdowns? \"))\n",
    "    except ValueError:\n",
    "            print \"Please enter a number\"\n",
    "            continue\n",
    "    else:\n",
    "        break\n",
    "while True:\n",
    "    try:\n",
    "        TARGETS = int(raw_input(\"Number of targets? \"))\n",
    "    except ValueError:\n",
    "            print \"Please enter a number\"\n",
    "            continue\n",
    "    else:\n",
    "        break\n",
    "while True:\n",
    "    try:\n",
    "        PTD = int(raw_input(\"Number of receiving touchdowns? \"))\n",
    "    except ValueError:\n",
    "            print \"Please enter a number\"\n",
    "            continue\n",
    "    else:\n",
    "        break\n",
    "while True:\n",
    "    try:\n",
    "        FUM = int(raw_input(\"Number of fumbles? \"))\n",
    "    except ValueError:\n",
    "            print \"Please enter a number\"\n",
    "            continue\n",
    "    else:\n",
    "        break"
   ]
  },
  {
   "cell_type": "code",
   "execution_count": 6,
   "metadata": {
    "collapsed": false
   },
   "outputs": [
    {
     "name": "stdout",
     "output_type": "stream",
     "text": [
      "0.634151719877\n"
     ]
    }
   ],
   "source": [
    "# 199, 180, 4, 19, 0, 1 Adrian Peterson\n",
    "e = np.exp(RBlogitmod.params['Intercept'] + RBlogitmod.params['PLAYS']*PLAYS + \n",
    "                 RBlogitmod.params['RUN']*RUN + RBlogitmod.params['RTD']*RTD + \n",
    "                 RBlogitmod.params['TARGETS']*TARGETS + RBlogitmod.params['PTD']*PTD + RBlogitmod.params['FUM'] * FUM)\n",
    "print(e / (1 + e))"
   ]
  }
 ],
 "metadata": {
  "kernelspec": {
   "display_name": "Python 2",
   "language": "python",
   "name": "python2"
  },
  "language_info": {
   "codemirror_mode": {
    "name": "ipython",
    "version": 2
   },
   "file_extension": ".py",
   "mimetype": "text/x-python",
   "name": "python",
   "nbconvert_exporter": "python",
   "pygments_lexer": "ipython2",
   "version": "2.7.11"
  }
 },
 "nbformat": 4,
 "nbformat_minor": 0
}
